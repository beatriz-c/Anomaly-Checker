{
 "cells": [
  {
   "cell_type": "code",
   "execution_count": 42,
   "id": "7024a27f",
   "metadata": {},
   "outputs": [],
   "source": [
    "#-----------------------------------------pre-processing---------------------------------------------------#\n",
    "\n",
    "#data loading\n",
    "import pandas as pd\n",
    "predata = pd.read_csv('traindata.csv', nrows = 1000) #aumentar nrows até rebentar"
   ]
  },
  {
   "cell_type": "code",
   "execution_count": 2,
   "id": "1eeaa5d0",
   "metadata": {},
   "outputs": [],
   "source": [
    "#len(predata[predata['clientid'] == 3])  #3, 194, 259"
   ]
  },
  {
   "cell_type": "code",
   "execution_count": 44,
   "id": "aa6b757b",
   "metadata": {
    "scrolled": true
   },
   "outputs": [
    {
     "data": {
      "text/plain": [
       "194    140\n",
       "259    104\n",
       "3       60\n",
       "361     35\n",
       "19      27\n",
       "2       26\n",
       "154     26\n",
       "113     23\n",
       "280     20\n",
       "421     19\n",
       "377     17\n",
       "248     17\n",
       "233     16\n",
       "119     15\n",
       "266     15\n",
       "181     14\n",
       "197     14\n",
       "297     13\n",
       "191     13\n",
       "184     12\n",
       "425     12\n",
       "116     12\n",
       "431     11\n",
       "75      11\n",
       "220     10\n",
       "202     10\n",
       "16      10\n",
       "410     10\n",
       "216      9\n",
       "36       9\n",
       "353      9\n",
       "134      9\n",
       "300      9\n",
       "404      8\n",
       "239      8\n",
       "277      8\n",
       "213      8\n",
       "27       8\n",
       "110      8\n",
       "175      7\n",
       "178      7\n",
       "336      7\n",
       "308      7\n",
       "321      6\n",
       "106      6\n",
       "78       6\n",
       "270      6\n",
       "130      6\n",
       "313      5\n",
       "54       5\n",
       "368      5\n",
       "67       5\n",
       "50       5\n",
       "325      5\n",
       "293      5\n",
       "103      5\n",
       "229      5\n",
       "448      4\n",
       "440      4\n",
       "142      4\n",
       "205      4\n",
       "44       4\n",
       "47       4\n",
       "400      4\n",
       "383      4\n",
       "58       4\n",
       "209      3\n",
       "137      3\n",
       "372      3\n",
       "62       3\n",
       "86       3\n",
       "40       3\n",
       "428      3\n",
       "96       3\n",
       "367      2\n",
       "356      2\n",
       "349      2\n",
       "122      2\n",
       "289      2\n",
       "285      2\n",
       "236      2\n",
       "82       2\n",
       "89       2\n",
       "99       2\n",
       "330      1\n",
       "263      1\n",
       "252      1\n",
       "163      1\n",
       "31       1\n",
       "407      1\n",
       "417      1\n",
       "414      1\n",
       "126      1\n",
       "158      1\n",
       "187      1\n",
       "244      1\n",
       "Name: clientid, dtype: int64"
      ]
     },
     "execution_count": 44,
     "metadata": {},
     "output_type": "execute_result"
    }
   ],
   "source": [
    "#predata['clientid'].value_counts()"
   ]
  },
  {
   "cell_type": "code",
   "execution_count": 3,
   "id": "dcc24e29",
   "metadata": {},
   "outputs": [],
   "source": [
    "predata_by_id = predata[predata['clientid'] == 3][['timestamp', 'canal', 'operativa', 'entity', 'reference', \n",
    "                                                   'trusted_indicator', 'iban_orig', 'iban_dest', 'amount', 'accountbalance',\n",
    "                                                  'ipaddress', 'is_fraud', 'is_mobile', 'is_tablet', 'is_pc', 'is_touch',\n",
    "                                                  'is_bot', 'browser_family', 'os_family', '#clientid_30D', '#ipaddress_30D',\n",
    "                                                '#iban_orig_30D', '#iban_dest_30D', 'clientid_time_diff', 'iban_dest_time_diff',\n",
    "                                                'mean_amount_clientid_30D', 'mean_amount_iban_dest_30D', '#clientid_ipaddress_30D', \n",
    "                                                '#clientid_iban_orig_30D', '#clientid_iban_dest_30D', 'is_fraud_cons', 'date', \n",
    "                                                'hour', 'cons_freq_ipaddress']]"
   ]
  },
  {
   "cell_type": "code",
   "execution_count": 4,
   "id": "91624f5c",
   "metadata": {},
   "outputs": [],
   "source": [
    "#columns created by me\n",
    "predata_by_id['weekday'] = pd.to_datetime(predata_by_id['timestamp']).apply(lambda x: x.weekday())"
   ]
  },
  {
   "cell_type": "code",
   "execution_count": 5,
   "id": "59643924",
   "metadata": {},
   "outputs": [],
   "source": [
    "predata_by_id.drop(['timestamp'], axis = 1, inplace = True)"
   ]
  },
  {
   "cell_type": "code",
   "execution_count": 6,
   "id": "9329518c",
   "metadata": {},
   "outputs": [],
   "source": [
    "#remove dots from ipaddress\n",
    "predata_by_id['ipaddress'] = predata_by_id['ipaddress'].apply(lambda x: \"\".join(x.split(\".\")))"
   ]
  },
  {
   "cell_type": "code",
   "execution_count": 7,
   "id": "0949a239",
   "metadata": {},
   "outputs": [],
   "source": [
    "#convert decimals to int \n",
    "cols_to_int = ['#clientid_30D', '#ipaddress_30D', '#iban_orig_30D', '#iban_dest_30D', 'clientid_time_diff',\n",
    "               'iban_dest_time_diff', '#clientid_ipaddress_30D', '#clientid_iban_orig_30D', '#clientid_iban_dest_30D']\n",
    "\n",
    "for col in cols_to_int:\n",
    "    predata_by_id[col] = predata_by_id[col].apply(lambda x: int(x))"
   ]
  },
  {
   "cell_type": "code",
   "execution_count": 8,
   "id": "6815fe4a",
   "metadata": {},
   "outputs": [],
   "source": [
    "#add letter before number to distinguish between similar words from different columns\n",
    "cols = ['entity', 'reference', 'iban_orig', 'iban_dest', 'ipaddress', '#clientid_30D', '#ipaddress_30D', '#iban_orig_30D', \n",
    "        '#iban_dest_30D', 'clientid_time_diff', 'iban_dest_time_diff', '#clientid_ipaddress_30D', '#clientid_iban_orig_30D', \n",
    "        '#clientid_iban_dest_30D', 'is_fraud_cons', 'date', 'hour', 'cons_freq_ipaddress']\n",
    "\n",
    "identifier = ['e', 'r', 'io', 'id', 'ip', 'h', 'fc', 'd', 'cfi', 'ncd', 'nid', 'niod', 'nidd', 'ctd', 'idtd', 'ncid', \n",
    "'nciod', 'ncidd']\n",
    "\n",
    "for col in range(len(cols)):\n",
    "    predata_by_id[cols[col]] = predata_by_id[cols[col]].apply(lambda x: identifier[col] + str(x))"
   ]
  },
  {
   "cell_type": "code",
   "execution_count": 9,
   "id": "6e3b022d",
   "metadata": {},
   "outputs": [],
   "source": [
    "#convert binary and UNKNOWN to words \n",
    "def apply_map(df, col, target_map):\n",
    "    df[col] = df[col].apply(lambda x: target_map.get(str(x)))\n",
    "\n",
    "cols_maps = [('is_fraud', {'0':'nfraud', '1':'fraud'}),\n",
    "             ('trusted_indicator', {'0.0':'ntrusted', '1.0':'trusted', 'UNKNOWN':'unknown'}),\n",
    "             ('is_mobile', {'False':'nmobile', 'True':'mobile'}),\n",
    "             ('is_tablet', {'False':'ntablet', 'True':'tablet'}),\n",
    "             ('is_pc', {'False':'npc', 'True':'pc'}),\n",
    "             ('is_touch', {'False':'ntouch', 'True':'touch'}),\n",
    "             ('is_bot', {'False':'nbot', 'True':'bot'}),\n",
    "             ('weekday', {'0':'seg', '1':'ter', '2':'qua', '3':'qui', '4':'sex', '5':'sab', '6':'dom'})]\n",
    "\n",
    "for comb in cols_maps:\n",
    "    apply_map(predata_by_id, comb[0], comb[1])"
   ]
  },
  {
   "cell_type": "code",
   "execution_count": 10,
   "id": "99e60560",
   "metadata": {},
   "outputs": [],
   "source": [
    "#len(predata_by_id[predata_by_id['is_fraud'] == 'fraud'])"
   ]
  },
  {
   "cell_type": "code",
   "execution_count": 11,
   "id": "9fabcf34",
   "metadata": {},
   "outputs": [],
   "source": [
    "#len(predata_by_id[predata_by_id['is_fraud'] == 'nfraud'])"
   ]
  },
  {
   "cell_type": "code",
   "execution_count": 12,
   "id": "004e6bcc",
   "metadata": {},
   "outputs": [],
   "source": [
    "#amounts -> classes\n",
    "import numpy as np \n",
    "\n",
    "#automatic labels\n",
    "import string\n",
    "\n",
    "class LabelCategorizer():\n",
    "    def __init__(self, base_word = 'cat'):\n",
    "        self._alphabet_index = 0\n",
    "        self.base_word = base_word\n",
    "        self.current_word = self.base_word\n",
    "        self.shift = 0\n",
    "\n",
    "    def __str__(self):\n",
    "        return 'Class: Label Categorizer\\nBase word: ' + self.base_word + '\\nCurrent Word: ' + self.current_word\n",
    "\n",
    "    def get_next_word(self):\n",
    "        if self.shift > 0:\n",
    "            self.current_word = self.current_word[-1] + self.current_word[:-1]\n",
    "            self.shift -= 1\n",
    "        else:\n",
    "            self.current_word = self.current_word + string.ascii_lowercase[self._alphabet_index]\n",
    "            self._alphabet_index = (self._alphabet_index + 1) % len(string.ascii_lowercase)\n",
    "            self.shift = len(self.current_word) - 1\n",
    "\n",
    "        return self.current_word\n",
    "\n",
    "\n",
    "#replacement of the old columns with the new ones with classes \n",
    "def cutter (col, number, word, words_map):\n",
    "\n",
    "    bins_a = np.linspace(predata_by_id[col].min(), predata_by_id[col].max(), num = number)\n",
    "    bins_a[0] = bins_a[0]-1\n",
    "    bins_aux = bins_a[1:]\n",
    "    bins_aux = np.append(bins_aux, bins_a[-1]+1)\n",
    "    bin_tuples = list(zip(bins_a, bins_aux))\n",
    "\n",
    "    bins = pd.IntervalIndex.from_tuples(bin_tuples)\n",
    "\n",
    "    labels_a = []\n",
    "\n",
    "    a = LabelCategorizer(base_word = word)\n",
    "\n",
    "    for _ in range(number):\n",
    "        labels_a.append(a.get_next_word())\n",
    "\n",
    "    x = pd.cut(predata_by_id[col].to_list(), bins = bins)\n",
    "    x.categories = labels_a\n",
    "    predata_by_id[col] = x\n",
    "\n",
    "    \n",
    "    for i in range(number):\n",
    "        words_map[labels_a[i]] = bins[i]       \n",
    "\n",
    "        \n",
    "columns = ['amount', 'accountbalance', 'mean_amount_clientid_30D', 'mean_amount_iban_dest_30D']\n",
    "number_bins = [100, 250, 100, 100]\n",
    "base_words = ['blue', 'pink', 'red', 'grey']\n",
    "\n",
    "values_map = {}\n",
    "\n",
    "for i in range (len(columns)):\n",
    "    cutter(columns[i], number_bins[i], base_words[i], values_map)"
   ]
  },
  {
   "cell_type": "code",
   "execution_count": 13,
   "id": "076acb75",
   "metadata": {},
   "outputs": [],
   "source": [
    "#values_map"
   ]
  },
  {
   "cell_type": "code",
   "execution_count": 14,
   "id": "3bd226a3",
   "metadata": {},
   "outputs": [],
   "source": [
    "#values_map['pinka']"
   ]
  },
  {
   "cell_type": "code",
   "execution_count": 15,
   "id": "45bc8baa",
   "metadata": {},
   "outputs": [],
   "source": [
    "predata_by_id['canal'] = predata_by_id['canal'].str.lower()\n",
    "predata_by_id['operativa'] = predata_by_id['operativa'].str.lower()\n",
    "predata_by_id['browser_family'] = predata_by_id['browser_family'].str.lower()\n",
    "predata_by_id['os_family'] = predata_by_id['os_family'].str.lower()\n",
    "predata_by_id['ipaddress'] = predata_by_id['ipaddress'].str.lower()"
   ]
  },
  {
   "cell_type": "code",
   "execution_count": 36,
   "id": "37f22225",
   "metadata": {},
   "outputs": [],
   "source": [
    "#pd.set_option('display.max_columns', None)\n",
    "#pd.set_option('display.max_rows', None)\n",
    "#predata_by_id"
   ]
  },
  {
   "cell_type": "code",
   "execution_count": 17,
   "id": "20c540cd",
   "metadata": {},
   "outputs": [],
   "source": [
    "#dataframe to numpy array of arrays\n",
    "sentences = predata_by_id.to_numpy()"
   ]
  },
  {
   "cell_type": "code",
   "execution_count": 18,
   "id": "38aee8f7",
   "metadata": {},
   "outputs": [
    {
     "data": {
      "text/plain": [
       "array(['obe', 'trfsep', 'e3', 'r3', 'ntrusted', 'io2935722', 'id1110992',\n",
       "       'lueab', 'kapin', 'ip959216914', 'nfraud', 'nmobile', 'ntablet',\n",
       "       'npc', 'ntouch', 'nbot', 'other', 'other', 'h0', 'fc14', 'd1',\n",
       "       'cfi6', 'ncd-1', 'nid1113', 'edarb', 'yeagbrced', 'niod0', 'nidd0',\n",
       "       'ctd0', 'idtd0', 'ncid20200221', 'nciod20', 'ncidd1', 'sex'],\n",
       "      dtype=object)"
      ]
     },
     "execution_count": 18,
     "metadata": {},
     "output_type": "execute_result"
    }
   ],
   "source": [
    "sentences[0]"
   ]
  },
  {
   "cell_type": "code",
   "execution_count": 19,
   "id": "517f5eab",
   "metadata": {},
   "outputs": [],
   "source": [
    "#np.savetxt('train_data.txt', sentences, delimiter=\" \", fmt=\"%s\")\n",
    "#sentences = w2v.LineSentence('train_data.txt')"
   ]
  },
  {
   "cell_type": "code",
   "execution_count": 20,
   "id": "081b417b",
   "metadata": {},
   "outputs": [],
   "source": [
    "sentences_aux = [list(curr) for curr in sentences]"
   ]
  },
  {
   "cell_type": "code",
   "execution_count": 21,
   "id": "0aea1865",
   "metadata": {
    "scrolled": true
   },
   "outputs": [
    {
     "data": {
      "text/plain": [
       "['obe',\n",
       " 'trfsep',\n",
       " 'e3',\n",
       " 'r3',\n",
       " 'ntrusted',\n",
       " 'io2935722',\n",
       " 'id1110992',\n",
       " 'lueab',\n",
       " 'kapin',\n",
       " 'ip959216914',\n",
       " 'nfraud',\n",
       " 'nmobile',\n",
       " 'ntablet',\n",
       " 'npc',\n",
       " 'ntouch',\n",
       " 'nbot',\n",
       " 'other',\n",
       " 'other',\n",
       " 'h0',\n",
       " 'fc14',\n",
       " 'd1',\n",
       " 'cfi6',\n",
       " 'ncd-1',\n",
       " 'nid1113',\n",
       " 'edarb',\n",
       " 'yeagbrced',\n",
       " 'niod0',\n",
       " 'nidd0',\n",
       " 'ctd0',\n",
       " 'idtd0',\n",
       " 'ncid20200221',\n",
       " 'nciod20',\n",
       " 'ncidd1',\n",
       " 'sex']"
      ]
     },
     "execution_count": 21,
     "metadata": {},
     "output_type": "execute_result"
    }
   ],
   "source": [
    "sentences_aux[0]"
   ]
  },
  {
   "cell_type": "code",
   "execution_count": 22,
   "id": "ff4bc9f8",
   "metadata": {},
   "outputs": [],
   "source": [
    "sentences_series = pd.Series(sentences_aux)"
   ]
  },
  {
   "cell_type": "code",
   "execution_count": 23,
   "id": "f7ae36bf",
   "metadata": {},
   "outputs": [],
   "source": [
    "#---------------------------------------------------training------------------------------------------------------#\n",
    "\n",
    "#inicialization and training word2vec\n",
    "import multiprocessing\n",
    "import gensim.models.word2vec as w2v\n",
    "\n",
    "def training (sentences, cycles, dim, architecture, context):\n",
    "    model = w2v.Word2Vec (\n",
    "        sg = architecture, #1 - skip-gram , 0 - cbow\n",
    "        workers = multiprocessing.cpu_count(), #uses all the cores \n",
    "        vector_size = dim, #dimension of the embedding space = N \n",
    "        window = context, #words befores and after center word\n",
    "        sample = 0, #whithout downsampling \n",
    "        ns_exponent = 0.0,\n",
    "        min_count = 0, \n",
    ")\n",
    "    \n",
    "    #vocabulary creation\n",
    "    model.build_vocab(sentences) \n",
    "\n",
    "    #model training\n",
    "    model.train(sentences, epochs = cycles, total_examples = model.corpus_count, compute_loss = True)\n",
    "\n",
    "    return model\n",
    "\n",
    "#model creation\n",
    "model = training(sentences_series, 5, 10, 1, 5)"
   ]
  },
  {
   "cell_type": "code",
   "execution_count": 24,
   "id": "b04bbcf3",
   "metadata": {},
   "outputs": [
    {
     "name": "stdout",
     "output_type": "stream",
     "text": [
      "Word2Vec(vocab=502, vector_size=10, alpha=0.025)\n"
     ]
    }
   ],
   "source": [
    "print(model)"
   ]
  },
  {
   "cell_type": "code",
   "execution_count": 25,
   "id": "50ffcdc0",
   "metadata": {
    "scrolled": true
   },
   "outputs": [
    {
     "name": "stdout",
     "output_type": "stream",
     "text": [
      "502\n"
     ]
    }
   ],
   "source": [
    "print(len(model.wv.index_to_key)) #vocab size = V"
   ]
  },
  {
   "cell_type": "code",
   "execution_count": 37,
   "id": "ae6ca6db",
   "metadata": {},
   "outputs": [],
   "source": [
    "#print(model.wv.index_to_key)"
   ]
  },
  {
   "cell_type": "code",
   "execution_count": 27,
   "id": "442b91f0",
   "metadata": {
    "scrolled": true
   },
   "outputs": [
    {
     "data": {
      "text/plain": [
       "[('nid-1', 0.9979271292686462),\n",
       " ('nmobile', 0.9953253865242004),\n",
       " ('ntablet', 0.9933708906173706),\n",
       " ('npc', 0.9932478666305542),\n",
       " ('fc39', 0.9921668171882629),\n",
       " ('h21', 0.9921357035636902),\n",
       " ('niod21', 0.9906290173530579),\n",
       " ('d4', 0.9895514845848083),\n",
       " ('d18', 0.9894483089447021),\n",
       " ('fc3', 0.9884853363037109)]"
      ]
     },
     "execution_count": 27,
     "metadata": {},
     "output_type": "execute_result"
    }
   ],
   "source": [
    "model.wv.most_similar('nfraud')"
   ]
  },
  {
   "cell_type": "code",
   "execution_count": 28,
   "id": "37d8894a",
   "metadata": {},
   "outputs": [],
   "source": [
    "#saving the model\n",
    "model.save('Trained_by_id.w2v')"
   ]
  },
  {
   "cell_type": "code",
   "execution_count": 29,
   "id": "88c874e8",
   "metadata": {},
   "outputs": [],
   "source": [
    "#-------------------------------------------------matrices--------------------------------------------------------#\n",
    "\n",
    "#weight matrices\n",
    "m1 = model.wv.vectors  #input embedding matrix  #VxN"
   ]
  },
  {
   "cell_type": "code",
   "execution_count": 30,
   "id": "afc1cd8b",
   "metadata": {},
   "outputs": [],
   "source": [
    "m2 = model.syn1neg      #NxV "
   ]
  },
  {
   "cell_type": "code",
   "execution_count": 31,
   "id": "735af5b3",
   "metadata": {},
   "outputs": [],
   "source": [
    "#visualization of the matrices\n",
    "\n",
    "#np.set_printoptions(edgeitems = 10000)\n",
    "#np.set_printoptions(linewidth = 10000)\n",
    "np.set_printoptions(threshold = np.inf)\n",
    "\n",
    "#import sys\n",
    "#np.set_printoptions(threshold = sys.maxsize)"
   ]
  },
  {
   "cell_type": "code",
   "execution_count": 38,
   "id": "bc6e8571",
   "metadata": {},
   "outputs": [
    {
     "name": "stdout",
     "output_type": "stream",
     "text": [
      "(502, 10) (502, 10)\n"
     ]
    }
   ],
   "source": [
    "print(m1.shape, m2.shape)\n",
    "import numpy as np\n",
    "#print(np.matrix(m1))\n",
    "#print()\n",
    "#print()\n",
    "#print(np.matrix(m2))"
   ]
  },
  {
   "cell_type": "code",
   "execution_count": 33,
   "id": "40182ee9",
   "metadata": {},
   "outputs": [],
   "source": [
    "m3 = np.transpose(m2)\n",
    "#print(m3.shape)\n",
    "#print(np.matrix(m3))"
   ]
  },
  {
   "cell_type": "code",
   "execution_count": 34,
   "id": "0f6a45ad",
   "metadata": {},
   "outputs": [
    {
     "name": "stdout",
     "output_type": "stream",
     "text": [
      "(502, 502)\n"
     ]
    }
   ],
   "source": [
    "#condicional probabilities\n",
    "probabilities = np.matmul(m1, m3)\n",
    "\n",
    "print(probabilities.shape)"
   ]
  },
  {
   "cell_type": "code",
   "execution_count": 40,
   "id": "f8912703",
   "metadata": {},
   "outputs": [],
   "source": [
    "#seeing the matrix\n",
    "#s = [[str(e) for e in row] for row in probabilities]\n",
    "#lens = [max(map(len, col)) for col in zip(*s)]\n",
    "#fmt = '\\t'.join('{{:{}}}'.format(x) for x in lens)\n",
    "#table = [fmt.format(*row) for row in s]\n",
    "#print ('\\n'.join(table))\n",
    "\n",
    "#print(np.matrix(probabilities))\n",
    "np.savetxt('prob_by_id.txt', probabilities)"
   ]
  },
  {
   "cell_type": "code",
   "execution_count": null,
   "id": "71b6d531",
   "metadata": {},
   "outputs": [],
   "source": []
  }
 ],
 "metadata": {
  "kernelspec": {
   "display_name": "Python 3 (ipykernel)",
   "language": "python",
   "name": "python3"
  },
  "language_info": {
   "codemirror_mode": {
    "name": "ipython",
    "version": 3
   },
   "file_extension": ".py",
   "mimetype": "text/x-python",
   "name": "python",
   "nbconvert_exporter": "python",
   "pygments_lexer": "ipython3",
   "version": "3.9.9"
  }
 },
 "nbformat": 4,
 "nbformat_minor": 5
}
